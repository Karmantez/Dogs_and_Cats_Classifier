{
 "cells": [
  {
   "cell_type": "code",
   "execution_count": 7,
   "metadata": {},
   "outputs": [],
   "source": [
    "from glob import glob\n",
    "import random\n",
    "import os\n",
    "from torchvision.datasets import ImageFolder\n",
    "from torch.utils.data import DataLoader"
   ]
  },
  {
   "cell_type": "code",
   "execution_count": 5,
   "metadata": {},
   "outputs": [],
   "source": [
    "# Where dogs and cats data is located\n",
    "data_path = './dogs-vs-cats-redux-kernels-edition/train'\n",
    "# total data * 0.1 = valid data set\n",
    "verification_ratio = 0.1"
   ]
  },
  {
   "cell_type": "code",
   "execution_count": 32,
   "metadata": {},
   "outputs": [],
   "source": [
    "def create_directory():\n",
    "    \n",
    "    # Create directories ('train', 'valid') for learning and verification.\n",
    "    if not os.path.exists(os.path.join(data_path, 'train')):\n",
    "        os.mkdir(os.path.join(data_path, 'train'))\n",
    "    \n",
    "    if not os.path.exists(os.path.join(data_path, 'valid')):\n",
    "        os.mkdir(os.path.join(data_path, 'valid'))\n",
    "    \n",
    "    # Create dogs and cats directory.\n",
    "    for directory in ['train', 'valid']:\n",
    "        for animal in ['dog', 'cat']:\n",
    "            if not os.path.exists(os.path.join(data_path, directory, animal)):\n",
    "                os.mkdir(os.path.join(data_path, directory, animal))"
   ]
  },
  {
   "cell_type": "code",
   "execution_count": 33,
   "metadata": {},
   "outputs": [],
   "source": [
    "def load_data():\n",
    "    \n",
    "    # Create a directory first before categorizing dogs and cats data.\n",
    "    create_directory()\n",
    "    \n",
    "    # Read a list of all files in a folder.\n",
    "    files = glob(os.path.join(data_path, '*.jpg'))\n",
    "    \n",
    "    # Shuffle the file list to increase reliability.\n",
    "    random.shuffle(files)\n",
    "    \n",
    "    # Boundary value between training data and verification data\n",
    "    boundary = (int)(len(files) * verification_ratio)\n",
    "    \n",
    "    # process train dataset\n",
    "    for file in files[:boundary]:\n",
    "        filenames = file.split('\\\\')[-1].split('.')\n",
    "        os.rename(file, os.path.join(data_path, 'train', filenames[0], filenames[1]+'.'+filenames[2]))\n",
    "        \n",
    "    # process valid dataset\n",
    "    for file in files[boundary:]:\n",
    "        filenames = file.split('\\\\')[-1].split('.')\n",
    "        os.rename(file, os.path.join(data_path, 'valid', filenames[0], filenames[1]+'.'+filenames[2]))"
   ]
  },
  {
   "cell_type": "code",
   "execution_count": 34,
   "metadata": {},
   "outputs": [],
   "source": [
    "load_data()"
   ]
  },
  {
   "cell_type": "code",
   "execution_count": null,
   "metadata": {},
   "outputs": [],
   "source": []
  }
 ],
 "metadata": {
  "kernelspec": {
   "display_name": "Python 3",
   "language": "python",
   "name": "python3"
  },
  "language_info": {
   "codemirror_mode": {
    "name": "ipython",
    "version": 3
   },
   "file_extension": ".py",
   "mimetype": "text/x-python",
   "name": "python",
   "nbconvert_exporter": "python",
   "pygments_lexer": "ipython3",
   "version": "3.7.6"
  }
 },
 "nbformat": 4,
 "nbformat_minor": 4
}

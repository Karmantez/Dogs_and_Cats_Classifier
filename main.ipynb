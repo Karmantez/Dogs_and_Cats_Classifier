{
 "cells": [
  {
   "cell_type": "code",
   "execution_count": 28,
   "metadata": {},
   "outputs": [
    {
     "name": "stdout",
     "output_type": "stream",
     "text": [
      "Libraries are loaded successfully\n"
     ]
    }
   ],
   "source": [
    "# import testing\n",
    "import resnet_model\n",
    "import preprocessing\n",
    "import importlib\n",
    "from torchvision import transforms\n",
    "\n",
    "import torch\n",
    "\n",
    "# importlib.reload(testing)\n",
    "importlib.reload(resnet_model)\n",
    "importlib.reload(preprocessing)\n",
    "\n",
    "print('Libraries are loaded successfully')"
   ]
  },
  {
   "cell_type": "code",
   "execution_count": 29,
   "metadata": {},
   "outputs": [],
   "source": [
    "# Loading data with PyTorch Tensor\n",
    "# 1. Save all image sizes in the same size\n",
    "# 2. Normalize the dataset with the mean and standard deviation of the dataset\n",
    "# 3. Convert the image dataset to a PyTorch Tensor.\n",
    "\n",
    "image_transform = transforms.Compose([\n",
    "    transforms.Resize((224, 224)),\n",
    "    transforms.ToTensor(),\n",
    "    transforms.Normalize([0.485, 0.456, 0.406],\n",
    "                         [0.229, 0.224, 0.225])\n",
    "])\n",
    "\n",
    "batch_train = preprocessing.batch_processing('/train', image_transform, 32, True, 3)\n",
    "batch_valid = preprocessing.batch_processing('/valid', image_transform, 32, True, 3)"
   ]
  },
  {
   "cell_type": "code",
   "execution_count": 30,
   "metadata": {},
   "outputs": [
    {
     "name": "stdout",
     "output_type": "stream",
     "text": [
      "cuda available...\n",
      "Epoch 0/9\n",
      "----------\n",
      "train Loss: 0.0061 Acc: 0.9272\n",
      "valid Loss: 0.0021 Acc: 0.9773\n",
      "\n",
      "Epoch 1/9\n",
      "----------\n",
      "train Loss: 0.0019 Acc: 0.9832\n",
      "valid Loss: 0.0015 Acc: 0.9824\n",
      "\n",
      "Epoch 2/9\n",
      "----------\n",
      "train Loss: 0.0014 Acc: 0.9844\n",
      "valid Loss: 0.0014 Acc: 0.9840\n",
      "\n",
      "Epoch 3/9\n",
      "----------\n",
      "train Loss: 0.0012 Acc: 0.9880\n",
      "valid Loss: 0.0013 Acc: 0.9857\n",
      "\n",
      "Epoch 4/9\n",
      "----------\n"
     ]
    },
    {
     "ename": "KeyboardInterrupt",
     "evalue": "",
     "output_type": "error",
     "traceback": [
      "\u001b[1;31m---------------------------------------------------------------------------\u001b[0m",
      "\u001b[1;31mKeyboardInterrupt\u001b[0m                         Traceback (most recent call last)",
      "\u001b[1;32m<ipython-input-30-a21034af0af7>\u001b[0m in \u001b[0;36m<module>\u001b[1;34m\u001b[0m\n\u001b[0;32m      1\u001b[0m \u001b[0mmodel_ft\u001b[0m \u001b[1;33m=\u001b[0m \u001b[0mresnet_model\u001b[0m\u001b[1;33m.\u001b[0m\u001b[0mset_model_config\u001b[0m\u001b[1;33m(\u001b[0m\u001b[1;33m)\u001b[0m\u001b[1;33m\u001b[0m\u001b[1;33m\u001b[0m\u001b[0m\n\u001b[1;32m----> 2\u001b[1;33m \u001b[0msetted_model\u001b[0m \u001b[1;33m=\u001b[0m \u001b[0mresnet_model\u001b[0m\u001b[1;33m.\u001b[0m\u001b[0mactivate_model\u001b[0m\u001b[1;33m(\u001b[0m\u001b[0mmodel_ft\u001b[0m\u001b[1;33m,\u001b[0m \u001b[1;33m{\u001b[0m\u001b[1;34m'train'\u001b[0m \u001b[1;33m:\u001b[0m \u001b[0mbatch_train\u001b[0m\u001b[1;33m,\u001b[0m \u001b[1;34m'valid'\u001b[0m \u001b[1;33m:\u001b[0m \u001b[0mbatch_valid\u001b[0m\u001b[1;33m}\u001b[0m\u001b[1;33m,\u001b[0m \u001b[0mepochs\u001b[0m\u001b[1;33m=\u001b[0m\u001b[1;36m10\u001b[0m\u001b[1;33m)\u001b[0m\u001b[1;33m\u001b[0m\u001b[1;33m\u001b[0m\u001b[0m\n\u001b[0m",
      "\u001b[1;32m~\\Desktop\\Projects\\DogsAndCats\\resnet_model.py\u001b[0m in \u001b[0;36mactivate_model\u001b[1;34m(model, dataset, epochs, learning_rate)\u001b[0m\n\u001b[0;32m     76\u001b[0m                 \u001b[1;31m# 데이터를 Vaariable로 만듦\u001b[0m\u001b[1;33m\u001b[0m\u001b[1;33m\u001b[0m\u001b[1;33m\u001b[0m\u001b[0m\n\u001b[0;32m     77\u001b[0m                 \u001b[1;32mif\u001b[0m \u001b[0mtorch\u001b[0m\u001b[1;33m.\u001b[0m\u001b[0mcuda\u001b[0m\u001b[1;33m.\u001b[0m\u001b[0mis_available\u001b[0m\u001b[1;33m(\u001b[0m\u001b[1;33m)\u001b[0m\u001b[1;33m:\u001b[0m\u001b[1;33m\u001b[0m\u001b[1;33m\u001b[0m\u001b[0m\n\u001b[1;32m---> 78\u001b[1;33m                     \u001b[0minputs\u001b[0m \u001b[1;33m=\u001b[0m \u001b[0mVariable\u001b[0m\u001b[1;33m(\u001b[0m\u001b[0minputs\u001b[0m\u001b[1;33m.\u001b[0m\u001b[0mcuda\u001b[0m\u001b[1;33m(\u001b[0m\u001b[1;33m)\u001b[0m\u001b[1;33m)\u001b[0m\u001b[1;33m\u001b[0m\u001b[1;33m\u001b[0m\u001b[0m\n\u001b[0m\u001b[0;32m     79\u001b[0m                     \u001b[0mlabels\u001b[0m \u001b[1;33m=\u001b[0m \u001b[0mVariable\u001b[0m\u001b[1;33m(\u001b[0m\u001b[0mlabels\u001b[0m\u001b[1;33m.\u001b[0m\u001b[0mcuda\u001b[0m\u001b[1;33m(\u001b[0m\u001b[1;33m)\u001b[0m\u001b[1;33m)\u001b[0m\u001b[1;33m\u001b[0m\u001b[1;33m\u001b[0m\u001b[0m\n\u001b[0;32m     80\u001b[0m                 \u001b[1;32melse\u001b[0m\u001b[1;33m:\u001b[0m\u001b[1;33m\u001b[0m\u001b[1;33m\u001b[0m\u001b[0m\n",
      "\u001b[1;31mKeyboardInterrupt\u001b[0m: "
     ]
    }
   ],
   "source": [
    "model_ft = resnet_model.set_model_config()\n",
    "setted_model = resnet_model.activate_model(model_ft, {'train' : batch_train, 'valid' : batch_valid}, epochs=10)"
   ]
  },
  {
   "cell_type": "code",
   "execution_count": null,
   "metadata": {},
   "outputs": [],
   "source": []
  }
 ],
 "metadata": {
  "kernelspec": {
   "display_name": "Python 3",
   "language": "python",
   "name": "python3"
  },
  "language_info": {
   "codemirror_mode": {
    "name": "ipython",
    "version": 3
   },
   "file_extension": ".py",
   "mimetype": "text/x-python",
   "name": "python",
   "nbconvert_exporter": "python",
   "pygments_lexer": "ipython3",
   "version": "3.7.6"
  }
 },
 "nbformat": 4,
 "nbformat_minor": 4
}
